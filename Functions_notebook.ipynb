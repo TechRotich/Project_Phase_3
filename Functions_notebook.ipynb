{
 "cells": [
  {
   "cell_type": "markdown",
   "metadata": {},
   "source": [
    "####    This function returns the first and last n rows of a DataFrame. "
   ]
  },
  {
   "cell_type": "code",
   "execution_count": 1,
   "metadata": {},
   "outputs": [],
   "source": [
    "import pandas as pd\n",
    "\n",
    "def get_head_and_tail(df, n=5):\n",
    "    head_data = df.head(n)\n",
    "    tail_data = df.tail(n)\n",
    "    \n",
    "    return head_data, tail_data\n",
    "\n",
    "# Example usage:\n",
    "# Assuming you have a DataFrame `df`:\n",
    "# head, tail = get_head_and_tail(df, n=5)\n",
    "# print(\"Head of the DataFrame:\")\n",
    "# print(head)\n",
    "# print(\"Tail of the DataFrame:\")\n",
    "# print(tail)\n"
   ]
  },
  {
   "cell_type": "markdown",
   "metadata": {},
   "source": [
    "#### This function takes a pandas DataFrame and returns its shape, columns, info, and describe."
   ]
  },
  {
   "cell_type": "code",
   "execution_count": 2,
   "metadata": {},
   "outputs": [],
   "source": [
    "def generate_df_info(df):\n",
    "    \n",
    "    shape = df.shape\n",
    "    \n",
    "  \n",
    "    columns = df.columns.tolist()\n",
    "    \n",
    "   \n",
    "    buffer = io.StringIO()\n",
    "    df.info(buf=buffer)\n",
    "    info = buffer.getvalue()\n",
    "    \n",
    "    \n",
    "    describe = df.describe(include='all')\n",
    "    \n",
    "   \n",
    "    return {\n",
    "        'shape': shape,\n",
    "        'columns': columns,\n",
    "        'info': info,\n",
    "        'describe': describe\n",
    "    }\n"
   ]
  },
  {
   "cell_type": "markdown",
   "metadata": {},
   "source": [
    "#### Output Missing and Duplicates "
   ]
  },
  {
   "cell_type": "code",
   "execution_count": 3,
   "metadata": {},
   "outputs": [],
   "source": [
    "def missing_and_duplicates(df):\n",
    "  \n",
    "    missing_values = df.isnull().mean() * 100 \n",
    "    \n",
    "    missing_values_percent = missing_values.apply(lambda x: f\"{x:.2f}%\")\n",
    "    \n",
    "   \n",
    "    duplicates = df.duplicated().sum()\n",
    "    \n",
    "    \n",
    "    return {\n",
    "        'missing_values_percent': missing_values_percent,\n",
    "        'duplicate_rows': duplicates\n",
    "    }\n"
   ]
  },
  {
   "cell_type": "code",
   "execution_count": null,
   "metadata": {},
   "outputs": [],
   "source": []
  }
 ],
 "metadata": {
  "kernelspec": {
   "display_name": "Python (learn-env)",
   "language": "python",
   "name": "learn-env"
  },
  "language_info": {
   "codemirror_mode": {
    "name": "ipython",
    "version": 3
   },
   "file_extension": ".py",
   "mimetype": "text/x-python",
   "name": "python",
   "nbconvert_exporter": "python",
   "pygments_lexer": "ipython3",
   "version": "3.8.5"
  }
 },
 "nbformat": 4,
 "nbformat_minor": 4
}
